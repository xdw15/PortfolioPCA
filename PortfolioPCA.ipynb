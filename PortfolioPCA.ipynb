{
 "cells": [
  {
   "cell_type": "markdown",
   "metadata": {},
   "source": [
    "# Portfolio PCA"
   ]
  },
  {
   "cell_type": "code",
   "execution_count": 1,
   "metadata": {},
   "outputs": [],
   "source": [
    "import os\n",
    "import pandas as pd\n",
    "import numpy as np\n",
    "import matplotlib.pyplot as plt"
   ]
  },
  {
   "cell_type": "markdown",
   "metadata": {},
   "source": [
    "## PortfolioPCA  Class\n",
    "### * Using the Class object allows for versatile use of the analysis. The class can be applied to each data set individually and store its own relevant data. \n",
    "### * Methods within the class perform the PCA step by step with class instances that allow to keep and manipualte every step of the process.\n",
    "### * Output DataFrames are kept unchanged, and formating is only performed at the end of each called method to allow for readily exportation of the data.\n",
    "### * Each method has its own optional arguments to give maximum freedom when comparing changes in parameters."
   ]
  },
  {
   "cell_type": "markdown",
   "metadata": {},
   "source": [
    "#### Class admits a Matrix as input with observations in rows, and variables in columns. An optional argument  \"covariance\" can be added to indicate wether PCA will be performed on the covariance or correlation matrix; default is True."
   ]
  },
  {
   "cell_type": "code",
   "execution_count": 2,
   "metadata": {},
   "outputs": [],
   "source": [
    "class PortfolioPCA(object):\n",
    "    def __init__(self,matrixdata,covariance=1):\n",
    "        self.matrixform=matrixdata.to_numpy()\n",
    "        self.columns=matrixdata.columns\n",
    "        \n",
    "        if covariance==True:\n",
    "            target=np.cov(self.matrixform,rowvar=False)\n",
    "        else:\n",
    "            target=np.corrcoef(self.matrixform,rowvar=False)\n",
    "        _,self.eigval,self.eigvec=np.linalg.svd(target,full_matrices=True)\n",
    "        self.PC=self.matrixform.dot(self.eigvec.T)\n",
    "        _,c=target.shape\n",
    "        target2=np.concatenate([self.matrixform, self.PC],axis=1)\n",
    "        self.correlations=np.corrcoef(target2,rowvar=False)[:c,c: 2*c]\n",
    "    def pc_analysis(self,NumPC=None,threshold=0.3):\n",
    "        if NumPC==None:\n",
    "            NumPC=self.eigval.shape[0]\n",
    "        lab=[]\n",
    "        for i in range(1,NumPC+1):\n",
    "            lab.append(\"PC\"+\" \"+str(i))\n",
    "        self.analysis=pd.DataFrame(self.correlations[:,:NumPC],\\\n",
    "                                index=self.columns,columns=lab)\n",
    "        return self.analysis.style.apply(lambda x: [\"background: blue\" if abs(v) \\\n",
    "                                                       >=threshold else \"\" for v in x],\\\n",
    "                                            axis = 0).apply(lambda x: ['color: %s' % \\\n",
    "                                                                       'white' if abs(v) >=\\\n",
    "                                                                       threshold else \"\" for v in x]\\\n",
    "                                                            , axis = 0)\n",
    "\n",
    "    def variance_explained(self,NumPC=None,threshold=None):\n",
    "        if NumPC==None:\n",
    "            NumPC=self.eigval.shape[0]\n",
    "        if threshold==None:\n",
    "            threshold=np.sum(self.eigval)*0.05\n",
    "        lab=[]\n",
    "        for i in range(1,NumPC+1):\n",
    "            lab.append(\"PC\"+\" \"+str(i))\n",
    "\n",
    "        self.explained=np.concatenate([self.eigval[:NumPC].reshape(NumPC,1), \\\n",
    "                      self.eigval[:NumPC].reshape(NumPC,1)/np.sum(self.eigval), \\\n",
    "                      np.cumsum(self.eigval,axis=0)[:NumPC].reshape(NumPC,1)/\\\n",
    "                                       np.sum(self.eigval)],axis=1)\n",
    "        self.explained=pd.DataFrame((self.explained),index=lab,\\\n",
    "                                    columns=['eValue','% Variance','Cumulative %'])\n",
    "        \n",
    "        def greyout(s, cutoff, column):\n",
    "            is_max = pd.Series(data=False, index=s.index)\n",
    "            is_max[column] = s.loc[column] <= threshold\n",
    "            return ['color: %s' % 'grey' if is_max.any() else '' for v in is_max]\n",
    "        return self.explained.style.apply(greyout, cutoff=threshold, column=['eValue'], axis=1).\\\n",
    "    format({'% Variance': '{:.2%}','Cumulative %':'{:.2%}'})\n",
    "    \n",
    "    def variance_chart(self,NumPC=None):\n",
    "        if NumPC==None:\n",
    "            NumPC=self.eigval.shape[0]\n",
    "        lab=[]\n",
    "        for i in range(1,NumPC+1):\n",
    "            lab.append(\"PC\"+\" \"+str(i))\n",
    "        y=self.variance_explained(NumPC)\n",
    "        fig, axis = plt.subplots( figsize=(11,7))\n",
    "        fig.suptitle('Principal Components Chart',x=0.5 ,y=0.93)\n",
    "        axis.plot( np.arange(1,NumPC+1), y.data['% Variance'], marker='o',\\\n",
    "                  markerfacecolor='red', markersize=9, color='black', \\\n",
    "                  linewidth=2,linestyle='--',label=\"Eigen Value\")\n",
    "        plt.grid(which='Major', axis='both', linestyle='-')\n",
    "        axis.bar(np.arange(1,NumPC+1), y.data['% Variance'],label='% Variance Explained')\n",
    "        axis.legend(title='Legend',loc='upper right');\n",
    "        axis.set_xticks(np.arange(1,NumPC+1))\n",
    "        axis.set_xticklabels(lab)\n",
    "        axis.set_yticks(np.arange(0,1.1,0.1))\n",
    "        axis.set_yticklabels([\"{: d}%\".format(m) for m in np.arange(0,110,10)])\n",
    "        for m,n in enumerate(y.data['eValue']):\n",
    "            axis.text((m+1)*0.97,0.012+ y.data['% Variance'][m], \"{0:.3f}\".\\\n",
    "                      format(y.data['eValue'][m]) ,color='red',fontsize=12,rotation=0)\n",
    "\n"
   ]
  },
  {
   "cell_type": "code",
   "execution_count": null,
   "metadata": {},
   "outputs": [],
   "source": []
  },
  {
   "cell_type": "code",
   "execution_count": null,
   "metadata": {},
   "outputs": [],
   "source": []
  },
  {
   "cell_type": "code",
   "execution_count": null,
   "metadata": {},
   "outputs": [],
   "source": []
  },
  {
   "cell_type": "code",
   "execution_count": null,
   "metadata": {},
   "outputs": [],
   "source": []
  },
  {
   "cell_type": "code",
   "execution_count": null,
   "metadata": {},
   "outputs": [],
   "source": []
  },
  {
   "cell_type": "code",
   "execution_count": null,
   "metadata": {},
   "outputs": [],
   "source": []
  },
  {
   "cell_type": "markdown",
   "metadata": {},
   "source": [
    "## Examples"
   ]
  },
  {
   "cell_type": "code",
   "execution_count": 3,
   "metadata": {},
   "outputs": [],
   "source": [
    "os.chdir(\"D:/jupyter_notebooks/csv\")"
   ]
  },
  {
   "cell_type": "markdown",
   "metadata": {},
   "source": [
    "#### a) ETF-Portfolio of 10 assets."
   ]
  },
  {
   "cell_type": "code",
   "execution_count": 4,
   "metadata": {},
   "outputs": [],
   "source": [
    "datos=pd.read_csv(\"ETFPortfolio.csv\",sep=\",\",header=0)"
   ]
  },
  {
   "cell_type": "code",
   "execution_count": 5,
   "metadata": {},
   "outputs": [],
   "source": [
    "datos.dropna(axis=0,how='all',inplace=True)"
   ]
  },
  {
   "cell_type": "code",
   "execution_count": 6,
   "metadata": {},
   "outputs": [],
   "source": [
    "datos2=datos.drop(['Date'],axis=1)"
   ]
  },
  {
   "cell_type": "code",
   "execution_count": 7,
   "metadata": {},
   "outputs": [],
   "source": [
    "a=PortfolioPCA(datos2)"
   ]
  },
  {
   "cell_type": "code",
   "execution_count": 8,
   "metadata": {},
   "outputs": [
    {
     "data": {
      "text/html": [
       "<style  type=\"text/css\" >\n",
       "#T_542db78b_350e_11eb_a91c_4ccc6a82e689row0_col0,#T_542db78b_350e_11eb_a91c_4ccc6a82e689row1_col1,#T_542db78b_350e_11eb_a91c_4ccc6a82e689row1_col2,#T_542db78b_350e_11eb_a91c_4ccc6a82e689row1_col3,#T_542db78b_350e_11eb_a91c_4ccc6a82e689row2_col0,#T_542db78b_350e_11eb_a91c_4ccc6a82e689row3_col0,#T_542db78b_350e_11eb_a91c_4ccc6a82e689row3_col1,#T_542db78b_350e_11eb_a91c_4ccc6a82e689row3_col4,#T_542db78b_350e_11eb_a91c_4ccc6a82e689row4_col0,#T_542db78b_350e_11eb_a91c_4ccc6a82e689row5_col0,#T_542db78b_350e_11eb_a91c_4ccc6a82e689row6_col0,#T_542db78b_350e_11eb_a91c_4ccc6a82e689row6_col6,#T_542db78b_350e_11eb_a91c_4ccc6a82e689row6_col8,#T_542db78b_350e_11eb_a91c_4ccc6a82e689row7_col0,#T_542db78b_350e_11eb_a91c_4ccc6a82e689row8_col0,#T_542db78b_350e_11eb_a91c_4ccc6a82e689row8_col1,#T_542db78b_350e_11eb_a91c_4ccc6a82e689row9_col0,#T_542db78b_350e_11eb_a91c_4ccc6a82e689row9_col1{\n",
       "            background:  blue;\n",
       "            color:  white;\n",
       "        }</style><table id=\"T_542db78b_350e_11eb_a91c_4ccc6a82e689\" ><thead>    <tr>        <th class=\"blank level0\" ></th>        <th class=\"col_heading level0 col0\" >PC 1</th>        <th class=\"col_heading level0 col1\" >PC 2</th>        <th class=\"col_heading level0 col2\" >PC 3</th>        <th class=\"col_heading level0 col3\" >PC 4</th>        <th class=\"col_heading level0 col4\" >PC 5</th>        <th class=\"col_heading level0 col5\" >PC 6</th>        <th class=\"col_heading level0 col6\" >PC 7</th>        <th class=\"col_heading level0 col7\" >PC 8</th>        <th class=\"col_heading level0 col8\" >PC 9</th>        <th class=\"col_heading level0 col9\" >PC 10</th>    </tr></thead><tbody>\n",
       "                <tr>\n",
       "                        <th id=\"T_542db78b_350e_11eb_a91c_4ccc6a82e689level0_row0\" class=\"row_heading level0 row0\" >ITB</th>\n",
       "                        <td id=\"T_542db78b_350e_11eb_a91c_4ccc6a82e689row0_col0\" class=\"data row0 col0\" >-0.939434</td>\n",
       "                        <td id=\"T_542db78b_350e_11eb_a91c_4ccc6a82e689row0_col1\" class=\"data row0 col1\" >0.072905</td>\n",
       "                        <td id=\"T_542db78b_350e_11eb_a91c_4ccc6a82e689row0_col2\" class=\"data row0 col2\" >0.273657</td>\n",
       "                        <td id=\"T_542db78b_350e_11eb_a91c_4ccc6a82e689row0_col3\" class=\"data row0 col3\" >-0.162743</td>\n",
       "                        <td id=\"T_542db78b_350e_11eb_a91c_4ccc6a82e689row0_col4\" class=\"data row0 col4\" >0.026662</td>\n",
       "                        <td id=\"T_542db78b_350e_11eb_a91c_4ccc6a82e689row0_col5\" class=\"data row0 col5\" >-0.090056</td>\n",
       "                        <td id=\"T_542db78b_350e_11eb_a91c_4ccc6a82e689row0_col6\" class=\"data row0 col6\" >0.022683</td>\n",
       "                        <td id=\"T_542db78b_350e_11eb_a91c_4ccc6a82e689row0_col7\" class=\"data row0 col7\" >-0.037161</td>\n",
       "                        <td id=\"T_542db78b_350e_11eb_a91c_4ccc6a82e689row0_col8\" class=\"data row0 col8\" >-0.004825</td>\n",
       "                        <td id=\"T_542db78b_350e_11eb_a91c_4ccc6a82e689row0_col9\" class=\"data row0 col9\" >0.005964</td>\n",
       "            </tr>\n",
       "            <tr>\n",
       "                        <th id=\"T_542db78b_350e_11eb_a91c_4ccc6a82e689level0_row1\" class=\"row_heading level0 row1\" >IYZ</th>\n",
       "                        <td id=\"T_542db78b_350e_11eb_a91c_4ccc6a82e689row1_col0\" class=\"data row1 col0\" >-0.088085</td>\n",
       "                        <td id=\"T_542db78b_350e_11eb_a91c_4ccc6a82e689row1_col1\" class=\"data row1 col1\" >0.669660</td>\n",
       "                        <td id=\"T_542db78b_350e_11eb_a91c_4ccc6a82e689row1_col2\" class=\"data row1 col2\" >-0.591106</td>\n",
       "                        <td id=\"T_542db78b_350e_11eb_a91c_4ccc6a82e689row1_col3\" class=\"data row1 col3\" >0.320145</td>\n",
       "                        <td id=\"T_542db78b_350e_11eb_a91c_4ccc6a82e689row1_col4\" class=\"data row1 col4\" >0.207571</td>\n",
       "                        <td id=\"T_542db78b_350e_11eb_a91c_4ccc6a82e689row1_col5\" class=\"data row1 col5\" >-0.051059</td>\n",
       "                        <td id=\"T_542db78b_350e_11eb_a91c_4ccc6a82e689row1_col6\" class=\"data row1 col6\" >0.073038</td>\n",
       "                        <td id=\"T_542db78b_350e_11eb_a91c_4ccc6a82e689row1_col7\" class=\"data row1 col7\" >-0.196029</td>\n",
       "                        <td id=\"T_542db78b_350e_11eb_a91c_4ccc6a82e689row1_col8\" class=\"data row1 col8\" >-0.048857</td>\n",
       "                        <td id=\"T_542db78b_350e_11eb_a91c_4ccc6a82e689row1_col9\" class=\"data row1 col9\" >0.007456</td>\n",
       "            </tr>\n",
       "            <tr>\n",
       "                        <th id=\"T_542db78b_350e_11eb_a91c_4ccc6a82e689level0_row2\" class=\"row_heading level0 row2\" >XLY</th>\n",
       "                        <td id=\"T_542db78b_350e_11eb_a91c_4ccc6a82e689row2_col0\" class=\"data row2 col0\" >-0.972230</td>\n",
       "                        <td id=\"T_542db78b_350e_11eb_a91c_4ccc6a82e689row2_col1\" class=\"data row2 col1\" >-0.059768</td>\n",
       "                        <td id=\"T_542db78b_350e_11eb_a91c_4ccc6a82e689row2_col2\" class=\"data row2 col2\" >0.196007</td>\n",
       "                        <td id=\"T_542db78b_350e_11eb_a91c_4ccc6a82e689row2_col3\" class=\"data row2 col3\" >0.112804</td>\n",
       "                        <td id=\"T_542db78b_350e_11eb_a91c_4ccc6a82e689row2_col4\" class=\"data row2 col4\" >0.003374</td>\n",
       "                        <td id=\"T_542db78b_350e_11eb_a91c_4ccc6a82e689row2_col5\" class=\"data row2 col5\" >0.002459</td>\n",
       "                        <td id=\"T_542db78b_350e_11eb_a91c_4ccc6a82e689row2_col6\" class=\"data row2 col6\" >-0.003144</td>\n",
       "                        <td id=\"T_542db78b_350e_11eb_a91c_4ccc6a82e689row2_col7\" class=\"data row2 col7\" >0.001675</td>\n",
       "                        <td id=\"T_542db78b_350e_11eb_a91c_4ccc6a82e689row2_col8\" class=\"data row2 col8\" >-0.003700</td>\n",
       "                        <td id=\"T_542db78b_350e_11eb_a91c_4ccc6a82e689row2_col9\" class=\"data row2 col9\" >0.003204</td>\n",
       "            </tr>\n",
       "            <tr>\n",
       "                        <th id=\"T_542db78b_350e_11eb_a91c_4ccc6a82e689level0_row3\" class=\"row_heading level0 row3\" >XLP</th>\n",
       "                        <td id=\"T_542db78b_350e_11eb_a91c_4ccc6a82e689row3_col0\" class=\"data row3 col0\" >-0.682270</td>\n",
       "                        <td id=\"T_542db78b_350e_11eb_a91c_4ccc6a82e689row3_col1\" class=\"data row3 col1\" >0.590608</td>\n",
       "                        <td id=\"T_542db78b_350e_11eb_a91c_4ccc6a82e689row3_col2\" class=\"data row3 col2\" >0.107782</td>\n",
       "                        <td id=\"T_542db78b_350e_11eb_a91c_4ccc6a82e689row3_col3\" class=\"data row3 col3\" >-0.055431</td>\n",
       "                        <td id=\"T_542db78b_350e_11eb_a91c_4ccc6a82e689row3_col4\" class=\"data row3 col4\" >0.396905</td>\n",
       "                        <td id=\"T_542db78b_350e_11eb_a91c_4ccc6a82e689row3_col5\" class=\"data row3 col5\" >0.063065</td>\n",
       "                        <td id=\"T_542db78b_350e_11eb_a91c_4ccc6a82e689row3_col6\" class=\"data row3 col6\" >-0.053690</td>\n",
       "                        <td id=\"T_542db78b_350e_11eb_a91c_4ccc6a82e689row3_col7\" class=\"data row3 col7\" >0.073688</td>\n",
       "                        <td id=\"T_542db78b_350e_11eb_a91c_4ccc6a82e689row3_col8\" class=\"data row3 col8\" >0.029561</td>\n",
       "                        <td id=\"T_542db78b_350e_11eb_a91c_4ccc6a82e689row3_col9\" class=\"data row3 col9\" >-0.017398</td>\n",
       "            </tr>\n",
       "            <tr>\n",
       "                        <th id=\"T_542db78b_350e_11eb_a91c_4ccc6a82e689level0_row4\" class=\"row_heading level0 row4\" >IYT</th>\n",
       "                        <td id=\"T_542db78b_350e_11eb_a91c_4ccc6a82e689row4_col0\" class=\"data row4 col0\" >-0.997140</td>\n",
       "                        <td id=\"T_542db78b_350e_11eb_a91c_4ccc6a82e689row4_col1\" class=\"data row4 col1\" >-0.029426</td>\n",
       "                        <td id=\"T_542db78b_350e_11eb_a91c_4ccc6a82e689row4_col2\" class=\"data row4 col2\" >-0.068577</td>\n",
       "                        <td id=\"T_542db78b_350e_11eb_a91c_4ccc6a82e689row4_col3\" class=\"data row4 col3\" >-0.011061</td>\n",
       "                        <td id=\"T_542db78b_350e_11eb_a91c_4ccc6a82e689row4_col4\" class=\"data row4 col4\" >-0.001676</td>\n",
       "                        <td id=\"T_542db78b_350e_11eb_a91c_4ccc6a82e689row4_col5\" class=\"data row4 col5\" >0.000088</td>\n",
       "                        <td id=\"T_542db78b_350e_11eb_a91c_4ccc6a82e689row4_col6\" class=\"data row4 col6\" >0.001774</td>\n",
       "                        <td id=\"T_542db78b_350e_11eb_a91c_4ccc6a82e689row4_col7\" class=\"data row4 col7\" >0.003917</td>\n",
       "                        <td id=\"T_542db78b_350e_11eb_a91c_4ccc6a82e689row4_col8\" class=\"data row4 col8\" >-0.000026</td>\n",
       "                        <td id=\"T_542db78b_350e_11eb_a91c_4ccc6a82e689row4_col9\" class=\"data row4 col9\" >0.000250</td>\n",
       "            </tr>\n",
       "            <tr>\n",
       "                        <th id=\"T_542db78b_350e_11eb_a91c_4ccc6a82e689level0_row5\" class=\"row_heading level0 row5\" >PHO</th>\n",
       "                        <td id=\"T_542db78b_350e_11eb_a91c_4ccc6a82e689row5_col0\" class=\"data row5 col0\" >-0.976155</td>\n",
       "                        <td id=\"T_542db78b_350e_11eb_a91c_4ccc6a82e689row5_col1\" class=\"data row5 col1\" >0.135289</td>\n",
       "                        <td id=\"T_542db78b_350e_11eb_a91c_4ccc6a82e689row5_col2\" class=\"data row5 col2\" >0.111737</td>\n",
       "                        <td id=\"T_542db78b_350e_11eb_a91c_4ccc6a82e689row5_col3\" class=\"data row5 col3\" >0.013202</td>\n",
       "                        <td id=\"T_542db78b_350e_11eb_a91c_4ccc6a82e689row5_col4\" class=\"data row5 col4\" >-0.068858</td>\n",
       "                        <td id=\"T_542db78b_350e_11eb_a91c_4ccc6a82e689row5_col5\" class=\"data row5 col5\" >0.030805</td>\n",
       "                        <td id=\"T_542db78b_350e_11eb_a91c_4ccc6a82e689row5_col6\" class=\"data row5 col6\" >0.000197</td>\n",
       "                        <td id=\"T_542db78b_350e_11eb_a91c_4ccc6a82e689row5_col7\" class=\"data row5 col7\" >-0.051494</td>\n",
       "                        <td id=\"T_542db78b_350e_11eb_a91c_4ccc6a82e689row5_col8\" class=\"data row5 col8\" >0.040147</td>\n",
       "                        <td id=\"T_542db78b_350e_11eb_a91c_4ccc6a82e689row5_col9\" class=\"data row5 col9\" >-0.078775</td>\n",
       "            </tr>\n",
       "            <tr>\n",
       "                        <th id=\"T_542db78b_350e_11eb_a91c_4ccc6a82e689level0_row6\" class=\"row_heading level0 row6\" >DBA</th>\n",
       "                        <td id=\"T_542db78b_350e_11eb_a91c_4ccc6a82e689row6_col0\" class=\"data row6 col0\" >0.746864</td>\n",
       "                        <td id=\"T_542db78b_350e_11eb_a91c_4ccc6a82e689row6_col1\" class=\"data row6 col1\" >0.118745</td>\n",
       "                        <td id=\"T_542db78b_350e_11eb_a91c_4ccc6a82e689row6_col2\" class=\"data row6 col2\" >-0.116334</td>\n",
       "                        <td id=\"T_542db78b_350e_11eb_a91c_4ccc6a82e689row6_col3\" class=\"data row6 col3\" >0.274297</td>\n",
       "                        <td id=\"T_542db78b_350e_11eb_a91c_4ccc6a82e689row6_col4\" class=\"data row6 col4\" >0.013333</td>\n",
       "                        <td id=\"T_542db78b_350e_11eb_a91c_4ccc6a82e689row6_col5\" class=\"data row6 col5\" >-0.122207</td>\n",
       "                        <td id=\"T_542db78b_350e_11eb_a91c_4ccc6a82e689row6_col6\" class=\"data row6 col6\" >0.348079</td>\n",
       "                        <td id=\"T_542db78b_350e_11eb_a91c_4ccc6a82e689row6_col7\" class=\"data row6 col7\" >0.015597</td>\n",
       "                        <td id=\"T_542db78b_350e_11eb_a91c_4ccc6a82e689row6_col8\" class=\"data row6 col8\" >0.441744</td>\n",
       "                        <td id=\"T_542db78b_350e_11eb_a91c_4ccc6a82e689row6_col9\" class=\"data row6 col9\" >0.087572</td>\n",
       "            </tr>\n",
       "            <tr>\n",
       "                        <th id=\"T_542db78b_350e_11eb_a91c_4ccc6a82e689level0_row7\" class=\"row_heading level0 row7\" >DBB</th>\n",
       "                        <td id=\"T_542db78b_350e_11eb_a91c_4ccc6a82e689row7_col0\" class=\"data row7 col0\" >-0.956685</td>\n",
       "                        <td id=\"T_542db78b_350e_11eb_a91c_4ccc6a82e689row7_col1\" class=\"data row7 col1\" >0.115446</td>\n",
       "                        <td id=\"T_542db78b_350e_11eb_a91c_4ccc6a82e689row7_col2\" class=\"data row7 col2\" >0.000197</td>\n",
       "                        <td id=\"T_542db78b_350e_11eb_a91c_4ccc6a82e689row7_col3\" class=\"data row7 col3\" >-0.062343</td>\n",
       "                        <td id=\"T_542db78b_350e_11eb_a91c_4ccc6a82e689row7_col4\" class=\"data row7 col4\" >-0.050132</td>\n",
       "                        <td id=\"T_542db78b_350e_11eb_a91c_4ccc6a82e689row7_col5\" class=\"data row7 col5\" >0.109892</td>\n",
       "                        <td id=\"T_542db78b_350e_11eb_a91c_4ccc6a82e689row7_col6\" class=\"data row7 col6\" >-0.190437</td>\n",
       "                        <td id=\"T_542db78b_350e_11eb_a91c_4ccc6a82e689row7_col7\" class=\"data row7 col7\" >-0.106789</td>\n",
       "                        <td id=\"T_542db78b_350e_11eb_a91c_4ccc6a82e689row7_col8\" class=\"data row7 col8\" >0.062520</td>\n",
       "                        <td id=\"T_542db78b_350e_11eb_a91c_4ccc6a82e689row7_col9\" class=\"data row7 col9\" >0.037029</td>\n",
       "            </tr>\n",
       "            <tr>\n",
       "                        <th id=\"T_542db78b_350e_11eb_a91c_4ccc6a82e689level0_row8\" class=\"row_heading level0 row8\" >VNQ</th>\n",
       "                        <td id=\"T_542db78b_350e_11eb_a91c_4ccc6a82e689row8_col0\" class=\"data row8 col0\" >-0.373024</td>\n",
       "                        <td id=\"T_542db78b_350e_11eb_a91c_4ccc6a82e689row8_col1\" class=\"data row8 col1\" >0.901226</td>\n",
       "                        <td id=\"T_542db78b_350e_11eb_a91c_4ccc6a82e689row8_col2\" class=\"data row8 col2\" >-0.056676</td>\n",
       "                        <td id=\"T_542db78b_350e_11eb_a91c_4ccc6a82e689row8_col3\" class=\"data row8 col3\" >0.070175</td>\n",
       "                        <td id=\"T_542db78b_350e_11eb_a91c_4ccc6a82e689row8_col4\" class=\"data row8 col4\" >-0.104877</td>\n",
       "                        <td id=\"T_542db78b_350e_11eb_a91c_4ccc6a82e689row8_col5\" class=\"data row8 col5\" >-0.162094</td>\n",
       "                        <td id=\"T_542db78b_350e_11eb_a91c_4ccc6a82e689row8_col6\" class=\"data row8 col6\" >-0.038549</td>\n",
       "                        <td id=\"T_542db78b_350e_11eb_a91c_4ccc6a82e689row8_col7\" class=\"data row8 col7\" >0.041779</td>\n",
       "                        <td id=\"T_542db78b_350e_11eb_a91c_4ccc6a82e689row8_col8\" class=\"data row8 col8\" >0.001218</td>\n",
       "                        <td id=\"T_542db78b_350e_11eb_a91c_4ccc6a82e689row8_col9\" class=\"data row8 col9\" >0.001390</td>\n",
       "            </tr>\n",
       "            <tr>\n",
       "                        <th id=\"T_542db78b_350e_11eb_a91c_4ccc6a82e689level0_row9\" class=\"row_heading level0 row9\" >LQD</th>\n",
       "                        <td id=\"T_542db78b_350e_11eb_a91c_4ccc6a82e689row9_col0\" class=\"data row9 col0\" >-0.681486</td>\n",
       "                        <td id=\"T_542db78b_350e_11eb_a91c_4ccc6a82e689row9_col1\" class=\"data row9 col1\" >0.674122</td>\n",
       "                        <td id=\"T_542db78b_350e_11eb_a91c_4ccc6a82e689row9_col2\" class=\"data row9 col2\" >0.141394</td>\n",
       "                        <td id=\"T_542db78b_350e_11eb_a91c_4ccc6a82e689row9_col3\" class=\"data row9 col3\" >-0.066038</td>\n",
       "                        <td id=\"T_542db78b_350e_11eb_a91c_4ccc6a82e689row9_col4\" class=\"data row9 col4\" >-0.072359</td>\n",
       "                        <td id=\"T_542db78b_350e_11eb_a91c_4ccc6a82e689row9_col5\" class=\"data row9 col5\" >0.218487</td>\n",
       "                        <td id=\"T_542db78b_350e_11eb_a91c_4ccc6a82e689row9_col6\" class=\"data row9 col6\" >0.058404</td>\n",
       "                        <td id=\"T_542db78b_350e_11eb_a91c_4ccc6a82e689row9_col7\" class=\"data row9 col7\" >0.001339</td>\n",
       "                        <td id=\"T_542db78b_350e_11eb_a91c_4ccc6a82e689row9_col8\" class=\"data row9 col8\" >-0.015788</td>\n",
       "                        <td id=\"T_542db78b_350e_11eb_a91c_4ccc6a82e689row9_col9\" class=\"data row9 col9\" >0.012189</td>\n",
       "            </tr>\n",
       "    </tbody></table>"
      ],
      "text/plain": [
       "<pandas.io.formats.style.Styler at 0x29e335e46d0>"
      ]
     },
     "execution_count": 8,
     "metadata": {},
     "output_type": "execute_result"
    }
   ],
   "source": [
    "a.pc_analysis()"
   ]
  },
  {
   "cell_type": "code",
   "execution_count": 9,
   "metadata": {},
   "outputs": [
    {
     "data": {
      "text/html": [
       "<style  type=\"text/css\" >\n",
       "#T_5435a057_350e_11eb_ae41_4ccc6a82e689row1_col0,#T_5435a057_350e_11eb_ae41_4ccc6a82e689row1_col1,#T_5435a057_350e_11eb_ae41_4ccc6a82e689row1_col2,#T_5435a057_350e_11eb_ae41_4ccc6a82e689row2_col0,#T_5435a057_350e_11eb_ae41_4ccc6a82e689row2_col1,#T_5435a057_350e_11eb_ae41_4ccc6a82e689row2_col2,#T_5435a057_350e_11eb_ae41_4ccc6a82e689row3_col0,#T_5435a057_350e_11eb_ae41_4ccc6a82e689row3_col1,#T_5435a057_350e_11eb_ae41_4ccc6a82e689row3_col2,#T_5435a057_350e_11eb_ae41_4ccc6a82e689row4_col0,#T_5435a057_350e_11eb_ae41_4ccc6a82e689row4_col1,#T_5435a057_350e_11eb_ae41_4ccc6a82e689row4_col2,#T_5435a057_350e_11eb_ae41_4ccc6a82e689row5_col0,#T_5435a057_350e_11eb_ae41_4ccc6a82e689row5_col1,#T_5435a057_350e_11eb_ae41_4ccc6a82e689row5_col2,#T_5435a057_350e_11eb_ae41_4ccc6a82e689row6_col0,#T_5435a057_350e_11eb_ae41_4ccc6a82e689row6_col1,#T_5435a057_350e_11eb_ae41_4ccc6a82e689row6_col2,#T_5435a057_350e_11eb_ae41_4ccc6a82e689row7_col0,#T_5435a057_350e_11eb_ae41_4ccc6a82e689row7_col1,#T_5435a057_350e_11eb_ae41_4ccc6a82e689row7_col2,#T_5435a057_350e_11eb_ae41_4ccc6a82e689row8_col0,#T_5435a057_350e_11eb_ae41_4ccc6a82e689row8_col1,#T_5435a057_350e_11eb_ae41_4ccc6a82e689row8_col2,#T_5435a057_350e_11eb_ae41_4ccc6a82e689row9_col0,#T_5435a057_350e_11eb_ae41_4ccc6a82e689row9_col1,#T_5435a057_350e_11eb_ae41_4ccc6a82e689row9_col2{\n",
       "            color:  grey;\n",
       "        }</style><table id=\"T_5435a057_350e_11eb_ae41_4ccc6a82e689\" ><thead>    <tr>        <th class=\"blank level0\" ></th>        <th class=\"col_heading level0 col0\" >eValue</th>        <th class=\"col_heading level0 col1\" >% Variance</th>        <th class=\"col_heading level0 col2\" >Cumulative %</th>    </tr></thead><tbody>\n",
       "                <tr>\n",
       "                        <th id=\"T_5435a057_350e_11eb_ae41_4ccc6a82e689level0_row0\" class=\"row_heading level0 row0\" >PC 1</th>\n",
       "                        <td id=\"T_5435a057_350e_11eb_ae41_4ccc6a82e689row0_col0\" class=\"data row0 col0\" >586.462977</td>\n",
       "                        <td id=\"T_5435a057_350e_11eb_ae41_4ccc6a82e689row0_col1\" class=\"data row0 col1\" >93.52%</td>\n",
       "                        <td id=\"T_5435a057_350e_11eb_ae41_4ccc6a82e689row0_col2\" class=\"data row0 col2\" >93.52%</td>\n",
       "            </tr>\n",
       "            <tr>\n",
       "                        <th id=\"T_5435a057_350e_11eb_ae41_4ccc6a82e689level0_row1\" class=\"row_heading level0 row1\" >PC 2</th>\n",
       "                        <td id=\"T_5435a057_350e_11eb_ae41_4ccc6a82e689row1_col0\" class=\"data row1 col0\" >23.342225</td>\n",
       "                        <td id=\"T_5435a057_350e_11eb_ae41_4ccc6a82e689row1_col1\" class=\"data row1 col1\" >3.72%</td>\n",
       "                        <td id=\"T_5435a057_350e_11eb_ae41_4ccc6a82e689row1_col2\" class=\"data row1 col2\" >97.24%</td>\n",
       "            </tr>\n",
       "            <tr>\n",
       "                        <th id=\"T_5435a057_350e_11eb_ae41_4ccc6a82e689level0_row2\" class=\"row_heading level0 row2\" >PC 3</th>\n",
       "                        <td id=\"T_5435a057_350e_11eb_ae41_4ccc6a82e689row2_col0\" class=\"data row2 col0\" >10.327424</td>\n",
       "                        <td id=\"T_5435a057_350e_11eb_ae41_4ccc6a82e689row2_col1\" class=\"data row2 col1\" >1.65%</td>\n",
       "                        <td id=\"T_5435a057_350e_11eb_ae41_4ccc6a82e689row2_col2\" class=\"data row2 col2\" >98.89%</td>\n",
       "            </tr>\n",
       "            <tr>\n",
       "                        <th id=\"T_5435a057_350e_11eb_ae41_4ccc6a82e689level0_row3\" class=\"row_heading level0 row3\" >PC 4</th>\n",
       "                        <td id=\"T_5435a057_350e_11eb_ae41_4ccc6a82e689row3_col0\" class=\"data row3 col0\" >2.847358</td>\n",
       "                        <td id=\"T_5435a057_350e_11eb_ae41_4ccc6a82e689row3_col1\" class=\"data row3 col1\" >0.45%</td>\n",
       "                        <td id=\"T_5435a057_350e_11eb_ae41_4ccc6a82e689row3_col2\" class=\"data row3 col2\" >99.34%</td>\n",
       "            </tr>\n",
       "            <tr>\n",
       "                        <th id=\"T_5435a057_350e_11eb_ae41_4ccc6a82e689level0_row4\" class=\"row_heading level0 row4\" >PC 5</th>\n",
       "                        <td id=\"T_5435a057_350e_11eb_ae41_4ccc6a82e689row4_col0\" class=\"data row4 col0\" >1.536293</td>\n",
       "                        <td id=\"T_5435a057_350e_11eb_ae41_4ccc6a82e689row4_col1\" class=\"data row4 col1\" >0.24%</td>\n",
       "                        <td id=\"T_5435a057_350e_11eb_ae41_4ccc6a82e689row4_col2\" class=\"data row4 col2\" >99.59%</td>\n",
       "            </tr>\n",
       "            <tr>\n",
       "                        <th id=\"T_5435a057_350e_11eb_ae41_4ccc6a82e689level0_row5\" class=\"row_heading level0 row5\" >PC 6</th>\n",
       "                        <td id=\"T_5435a057_350e_11eb_ae41_4ccc6a82e689row5_col0\" class=\"data row5 col0\" >1.461073</td>\n",
       "                        <td id=\"T_5435a057_350e_11eb_ae41_4ccc6a82e689row5_col1\" class=\"data row5 col1\" >0.23%</td>\n",
       "                        <td id=\"T_5435a057_350e_11eb_ae41_4ccc6a82e689row5_col2\" class=\"data row5 col2\" >99.82%</td>\n",
       "            </tr>\n",
       "            <tr>\n",
       "                        <th id=\"T_5435a057_350e_11eb_ae41_4ccc6a82e689level0_row6\" class=\"row_heading level0 row6\" >PC 7</th>\n",
       "                        <td id=\"T_5435a057_350e_11eb_ae41_4ccc6a82e689row6_col0\" class=\"data row6 col0\" >0.449361</td>\n",
       "                        <td id=\"T_5435a057_350e_11eb_ae41_4ccc6a82e689row6_col1\" class=\"data row6 col1\" >0.07%</td>\n",
       "                        <td id=\"T_5435a057_350e_11eb_ae41_4ccc6a82e689row6_col2\" class=\"data row6 col2\" >99.89%</td>\n",
       "            </tr>\n",
       "            <tr>\n",
       "                        <th id=\"T_5435a057_350e_11eb_ae41_4ccc6a82e689level0_row7\" class=\"row_heading level0 row7\" >PC 8</th>\n",
       "                        <td id=\"T_5435a057_350e_11eb_ae41_4ccc6a82e689row7_col0\" class=\"data row7 col0\" >0.370433</td>\n",
       "                        <td id=\"T_5435a057_350e_11eb_ae41_4ccc6a82e689row7_col1\" class=\"data row7 col1\" >0.06%</td>\n",
       "                        <td id=\"T_5435a057_350e_11eb_ae41_4ccc6a82e689row7_col2\" class=\"data row7 col2\" >99.95%</td>\n",
       "            </tr>\n",
       "            <tr>\n",
       "                        <th id=\"T_5435a057_350e_11eb_ae41_4ccc6a82e689level0_row8\" class=\"row_heading level0 row8\" >PC 9</th>\n",
       "                        <td id=\"T_5435a057_350e_11eb_ae41_4ccc6a82e689row8_col0\" class=\"data row8 col0\" >0.210296</td>\n",
       "                        <td id=\"T_5435a057_350e_11eb_ae41_4ccc6a82e689row8_col1\" class=\"data row8 col1\" >0.03%</td>\n",
       "                        <td id=\"T_5435a057_350e_11eb_ae41_4ccc6a82e689row8_col2\" class=\"data row8 col2\" >99.99%</td>\n",
       "            </tr>\n",
       "            <tr>\n",
       "                        <th id=\"T_5435a057_350e_11eb_ae41_4ccc6a82e689level0_row9\" class=\"row_heading level0 row9\" >PC 10</th>\n",
       "                        <td id=\"T_5435a057_350e_11eb_ae41_4ccc6a82e689row9_col0\" class=\"data row9 col0\" >0.087767</td>\n",
       "                        <td id=\"T_5435a057_350e_11eb_ae41_4ccc6a82e689row9_col1\" class=\"data row9 col1\" >0.01%</td>\n",
       "                        <td id=\"T_5435a057_350e_11eb_ae41_4ccc6a82e689row9_col2\" class=\"data row9 col2\" >100.00%</td>\n",
       "            </tr>\n",
       "    </tbody></table>"
      ],
      "text/plain": [
       "<pandas.io.formats.style.Styler at 0x29e33583a00>"
      ]
     },
     "execution_count": 9,
     "metadata": {},
     "output_type": "execute_result"
    }
   ],
   "source": [
    "a.variance_explained()"
   ]
  },
  {
   "cell_type": "code",
   "execution_count": 10,
   "metadata": {},
   "outputs": [
    {
     "data": {
      "image/png": "[encoded data removed]",
      "text/plain": [
       "<Figure size 792x504 with 1 Axes>"
      ]
     },
     "metadata": {
      "needs_background": "light"
     },
     "output_type": "display_data"
    }
   ],
   "source": [
    "a.variance_chart()"
   ]
  },
  {
   "cell_type": "code",
   "execution_count": null,
   "metadata": {},
   "outputs": [],
   "source": []
  },
  {
   "cell_type": "code",
   "execution_count": null,
   "metadata": {},
   "outputs": [],
   "source": []
  },
  {
   "cell_type": "code",
   "execution_count": null,
   "metadata": {},
   "outputs": [],
   "source": []
  },
  {
   "cell_type": "code",
   "execution_count": null,
   "metadata": {},
   "outputs": [],
   "source": []
  },
  {
   "cell_type": "code",
   "execution_count": null,
   "metadata": {},
   "outputs": [],
   "source": []
  },
  {
   "cell_type": "code",
   "execution_count": null,
   "metadata": {},
   "outputs": [],
   "source": []
  },
  {
   "cell_type": "markdown",
   "metadata": {},
   "source": [
    "### Any kind of data can be admitted. In this case, we input a cross-sectional matrix."
   ]
  },
  {
   "cell_type": "code",
   "execution_count": 11,
   "metadata": {},
   "outputs": [],
   "source": [
    "texto=pd.read_csv('places.txt', delim_whitespace=True,header=None)"
   ]
  },
  {
   "cell_type": "code",
   "execution_count": 12,
   "metadata": {},
   "outputs": [],
   "source": [
    "texto.drop([9],axis=1,inplace=True)"
   ]
  },
  {
   "cell_type": "code",
   "execution_count": 13,
   "metadata": {},
   "outputs": [],
   "source": [
    "logtexto=texto.apply(lambda x: np.log(x)/np.log(10),axis=1)"
   ]
  },
  {
   "cell_type": "code",
   "execution_count": null,
   "metadata": {},
   "outputs": [],
   "source": []
  },
  {
   "cell_type": "code",
   "execution_count": 14,
   "metadata": {},
   "outputs": [],
   "source": [
    "b=PortfolioPCA(logtexto,covariance=False)"
   ]
  },
  {
   "cell_type": "code",
   "execution_count": 15,
   "metadata": {},
   "outputs": [
    {
     "data": {
      "text/html": [
       "<style  type=\"text/css\" >\n",
       "#T_55064b8f_350e_11eb_a605_4ccc6a82e689row0_col2,#T_55064b8f_350e_11eb_a605_4ccc6a82e689row1_col0,#T_55064b8f_350e_11eb_a605_4ccc6a82e689row1_col4,#T_55064b8f_350e_11eb_a605_4ccc6a82e689row1_col5,#T_55064b8f_350e_11eb_a605_4ccc6a82e689row1_col7,#T_55064b8f_350e_11eb_a605_4ccc6a82e689row1_col8,#T_55064b8f_350e_11eb_a605_4ccc6a82e689row2_col0,#T_55064b8f_350e_11eb_a605_4ccc6a82e689row2_col1,#T_55064b8f_350e_11eb_a605_4ccc6a82e689row2_col5,#T_55064b8f_350e_11eb_a605_4ccc6a82e689row2_col6,#T_55064b8f_350e_11eb_a605_4ccc6a82e689row2_col7,#T_55064b8f_350e_11eb_a605_4ccc6a82e689row3_col0,#T_55064b8f_350e_11eb_a605_4ccc6a82e689row3_col1,#T_55064b8f_350e_11eb_a605_4ccc6a82e689row3_col4,#T_55064b8f_350e_11eb_a605_4ccc6a82e689row4_col0,#T_55064b8f_350e_11eb_a605_4ccc6a82e689row4_col1,#T_55064b8f_350e_11eb_a605_4ccc6a82e689row4_col3,#T_55064b8f_350e_11eb_a605_4ccc6a82e689row4_col5,#T_55064b8f_350e_11eb_a605_4ccc6a82e689row4_col7,#T_55064b8f_350e_11eb_a605_4ccc6a82e689row4_col8,#T_55064b8f_350e_11eb_a605_4ccc6a82e689row5_col0,#T_55064b8f_350e_11eb_a605_4ccc6a82e689row5_col1,#T_55064b8f_350e_11eb_a605_4ccc6a82e689row5_col5,#T_55064b8f_350e_11eb_a605_4ccc6a82e689row5_col7,#T_55064b8f_350e_11eb_a605_4ccc6a82e689row6_col0,#T_55064b8f_350e_11eb_a605_4ccc6a82e689row6_col1,#T_55064b8f_350e_11eb_a605_4ccc6a82e689row6_col3,#T_55064b8f_350e_11eb_a605_4ccc6a82e689row6_col5,#T_55064b8f_350e_11eb_a605_4ccc6a82e689row6_col6,#T_55064b8f_350e_11eb_a605_4ccc6a82e689row6_col7,#T_55064b8f_350e_11eb_a605_4ccc6a82e689row6_col8,#T_55064b8f_350e_11eb_a605_4ccc6a82e689row7_col0,#T_55064b8f_350e_11eb_a605_4ccc6a82e689row7_col3,#T_55064b8f_350e_11eb_a605_4ccc6a82e689row7_col6,#T_55064b8f_350e_11eb_a605_4ccc6a82e689row7_col7,#T_55064b8f_350e_11eb_a605_4ccc6a82e689row7_col8,#T_55064b8f_350e_11eb_a605_4ccc6a82e689row8_col1,#T_55064b8f_350e_11eb_a605_4ccc6a82e689row8_col2{\n",
       "            background:  blue;\n",
       "            color:  white;\n",
       "        }</style><table id=\"T_55064b8f_350e_11eb_a605_4ccc6a82e689\" ><thead>    <tr>        <th class=\"blank level0\" ></th>        <th class=\"col_heading level0 col0\" >PC 1</th>        <th class=\"col_heading level0 col1\" >PC 2</th>        <th class=\"col_heading level0 col2\" >PC 3</th>        <th class=\"col_heading level0 col3\" >PC 4</th>        <th class=\"col_heading level0 col4\" >PC 5</th>        <th class=\"col_heading level0 col5\" >PC 6</th>        <th class=\"col_heading level0 col6\" >PC 7</th>        <th class=\"col_heading level0 col7\" >PC 8</th>        <th class=\"col_heading level0 col8\" >PC 9</th>    </tr></thead><tbody>\n",
       "                <tr>\n",
       "                        <th id=\"T_55064b8f_350e_11eb_a605_4ccc6a82e689level0_row0\" class=\"row_heading level0 row0\" >0</th>\n",
       "                        <td id=\"T_55064b8f_350e_11eb_a605_4ccc6a82e689row0_col0\" class=\"data row0 col0\" >-0.232407</td>\n",
       "                        <td id=\"T_55064b8f_350e_11eb_a605_4ccc6a82e689row0_col1\" class=\"data row0 col1\" >0.011263</td>\n",
       "                        <td id=\"T_55064b8f_350e_11eb_a605_4ccc6a82e689row0_col2\" class=\"data row0 col2\" >-0.909391</td>\n",
       "                        <td id=\"T_55064b8f_350e_11eb_a605_4ccc6a82e689row0_col3\" class=\"data row0 col3\" >0.164872</td>\n",
       "                        <td id=\"T_55064b8f_350e_11eb_a605_4ccc6a82e689row0_col4\" class=\"data row0 col4\" >-0.088457</td>\n",
       "                        <td id=\"T_55064b8f_350e_11eb_a605_4ccc6a82e689row0_col5\" class=\"data row0 col5\" >-0.100278</td>\n",
       "                        <td id=\"T_55064b8f_350e_11eb_a605_4ccc6a82e689row0_col6\" class=\"data row0 col6\" >-0.068621</td>\n",
       "                        <td id=\"T_55064b8f_350e_11eb_a605_4ccc6a82e689row0_col7\" class=\"data row0 col7\" >-0.216662</td>\n",
       "                        <td id=\"T_55064b8f_350e_11eb_a605_4ccc6a82e689row0_col8\" class=\"data row0 col8\" >0.115580</td>\n",
       "            </tr>\n",
       "            <tr>\n",
       "                        <th id=\"T_55064b8f_350e_11eb_a605_4ccc6a82e689level0_row1\" class=\"row_heading level0 row1\" >1</th>\n",
       "                        <td id=\"T_55064b8f_350e_11eb_a605_4ccc6a82e689row1_col0\" class=\"data row1 col0\" >-0.612245</td>\n",
       "                        <td id=\"T_55064b8f_350e_11eb_a605_4ccc6a82e689row1_col1\" class=\"data row1 col1\" >-0.137519</td>\n",
       "                        <td id=\"T_55064b8f_350e_11eb_a605_4ccc6a82e689row1_col2\" class=\"data row1 col2\" >-0.160024</td>\n",
       "                        <td id=\"T_55064b8f_350e_11eb_a605_4ccc6a82e689row1_col3\" class=\"data row1 col3\" >-0.217445</td>\n",
       "                        <td id=\"T_55064b8f_350e_11eb_a605_4ccc6a82e689row1_col4\" class=\"data row1 col4\" >0.377886</td>\n",
       "                        <td id=\"T_55064b8f_350e_11eb_a605_4ccc6a82e689row1_col5\" class=\"data row1 col5\" >-0.416852</td>\n",
       "                        <td id=\"T_55064b8f_350e_11eb_a605_4ccc6a82e689row1_col6\" class=\"data row1 col6\" >-0.245264</td>\n",
       "                        <td id=\"T_55064b8f_350e_11eb_a605_4ccc6a82e689row1_col7\" class=\"data row1 col7\" >-0.335514</td>\n",
       "                        <td id=\"T_55064b8f_350e_11eb_a605_4ccc6a82e689row1_col8\" class=\"data row1 col8\" >0.355505</td>\n",
       "            </tr>\n",
       "            <tr>\n",
       "                        <th id=\"T_55064b8f_350e_11eb_a605_4ccc6a82e689level0_row2\" class=\"row_heading level0 row2\" >2</th>\n",
       "                        <td id=\"T_55064b8f_350e_11eb_a605_4ccc6a82e689row2_col0\" class=\"data row2 col0\" >-0.793663</td>\n",
       "                        <td id=\"T_55064b8f_350e_11eb_a605_4ccc6a82e689row2_col1\" class=\"data row2 col1\" >-0.756124</td>\n",
       "                        <td id=\"T_55064b8f_350e_11eb_a605_4ccc6a82e689row2_col2\" class=\"data row2 col2\" >-0.034477</td>\n",
       "                        <td id=\"T_55064b8f_350e_11eb_a605_4ccc6a82e689row2_col3\" class=\"data row2 col3\" >-0.251851</td>\n",
       "                        <td id=\"T_55064b8f_350e_11eb_a605_4ccc6a82e689row2_col4\" class=\"data row2 col4\" >-0.093558</td>\n",
       "                        <td id=\"T_55064b8f_350e_11eb_a605_4ccc6a82e689row2_col5\" class=\"data row2 col5\" >-0.895697</td>\n",
       "                        <td id=\"T_55064b8f_350e_11eb_a605_4ccc6a82e689row2_col6\" class=\"data row2 col6\" >-0.457665</td>\n",
       "                        <td id=\"T_55064b8f_350e_11eb_a605_4ccc6a82e689row2_col7\" class=\"data row2 col7\" >-0.726903</td>\n",
       "                        <td id=\"T_55064b8f_350e_11eb_a605_4ccc6a82e689row2_col8\" class=\"data row2 col8\" >0.240428</td>\n",
       "            </tr>\n",
       "            <tr>\n",
       "                        <th id=\"T_55064b8f_350e_11eb_a605_4ccc6a82e689level0_row3\" class=\"row_heading level0 row3\" >3</th>\n",
       "                        <td id=\"T_55064b8f_350e_11eb_a605_4ccc6a82e689row3_col0\" class=\"data row3 col0\" >-0.429025</td>\n",
       "                        <td id=\"T_55064b8f_350e_11eb_a605_4ccc6a82e689row3_col1\" class=\"data row3 col1\" >0.346375</td>\n",
       "                        <td id=\"T_55064b8f_350e_11eb_a605_4ccc6a82e689row3_col2\" class=\"data row3 col2\" >-0.251584</td>\n",
       "                        <td id=\"T_55064b8f_350e_11eb_a605_4ccc6a82e689row3_col3\" class=\"data row3 col3\" >-0.284238</td>\n",
       "                        <td id=\"T_55064b8f_350e_11eb_a605_4ccc6a82e689row3_col4\" class=\"data row3 col4\" >-0.766614</td>\n",
       "                        <td id=\"T_55064b8f_350e_11eb_a605_4ccc6a82e689row3_col5\" class=\"data row3 col5\" >-0.275069</td>\n",
       "                        <td id=\"T_55064b8f_350e_11eb_a605_4ccc6a82e689row3_col6\" class=\"data row3 col6\" >-0.287384</td>\n",
       "                        <td id=\"T_55064b8f_350e_11eb_a605_4ccc6a82e689row3_col7\" class=\"data row3 col7\" >-0.051477</td>\n",
       "                        <td id=\"T_55064b8f_350e_11eb_a605_4ccc6a82e689row3_col8\" class=\"data row3 col8\" >0.276329</td>\n",
       "            </tr>\n",
       "            <tr>\n",
       "                        <th id=\"T_55064b8f_350e_11eb_a605_4ccc6a82e689level0_row4\" class=\"row_heading level0 row4\" >4</th>\n",
       "                        <td id=\"T_55064b8f_350e_11eb_a605_4ccc6a82e689row4_col0\" class=\"data row4 col0\" >-0.645430</td>\n",
       "                        <td id=\"T_55064b8f_350e_11eb_a605_4ccc6a82e689row4_col1\" class=\"data row4 col1\" >-0.322858</td>\n",
       "                        <td id=\"T_55064b8f_350e_11eb_a605_4ccc6a82e689row4_col2\" class=\"data row4 col2\" >0.128027</td>\n",
       "                        <td id=\"T_55064b8f_350e_11eb_a605_4ccc6a82e689row4_col3\" class=\"data row4 col3\" >-0.716732</td>\n",
       "                        <td id=\"T_55064b8f_350e_11eb_a605_4ccc6a82e689row4_col4\" class=\"data row4 col4\" >-0.228872</td>\n",
       "                        <td id=\"T_55064b8f_350e_11eb_a605_4ccc6a82e689row4_col5\" class=\"data row4 col5\" >-0.326270</td>\n",
       "                        <td id=\"T_55064b8f_350e_11eb_a605_4ccc6a82e689row4_col6\" class=\"data row4 col6\" >0.097310</td>\n",
       "                        <td id=\"T_55064b8f_350e_11eb_a605_4ccc6a82e689row4_col7\" class=\"data row4 col7\" >-0.520984</td>\n",
       "                        <td id=\"T_55064b8f_350e_11eb_a605_4ccc6a82e689row4_col8\" class=\"data row4 col8\" >0.373192</td>\n",
       "            </tr>\n",
       "            <tr>\n",
       "                        <th id=\"T_55064b8f_350e_11eb_a605_4ccc6a82e689level0_row5\" class=\"row_heading level0 row5\" >5</th>\n",
       "                        <td id=\"T_55064b8f_350e_11eb_a605_4ccc6a82e689row5_col0\" class=\"data row5 col0\" >-0.420162</td>\n",
       "                        <td id=\"T_55064b8f_350e_11eb_a605_4ccc6a82e689row5_col1\" class=\"data row5 col1\" >-0.466825</td>\n",
       "                        <td id=\"T_55064b8f_350e_11eb_a605_4ccc6a82e689row5_col2\" class=\"data row5 col2\" >0.130938</td>\n",
       "                        <td id=\"T_55064b8f_350e_11eb_a605_4ccc6a82e689row5_col3\" class=\"data row5 col3\" >-0.025998</td>\n",
       "                        <td id=\"T_55064b8f_350e_11eb_a605_4ccc6a82e689row5_col4\" class=\"data row5 col4\" >-0.117672</td>\n",
       "                        <td id=\"T_55064b8f_350e_11eb_a605_4ccc6a82e689row5_col5\" class=\"data row5 col5\" >-0.342425</td>\n",
       "                        <td id=\"T_55064b8f_350e_11eb_a605_4ccc6a82e689row5_col6\" class=\"data row5 col6\" >-0.179285</td>\n",
       "                        <td id=\"T_55064b8f_350e_11eb_a605_4ccc6a82e689row5_col7\" class=\"data row5 col7\" >-0.360832</td>\n",
       "                        <td id=\"T_55064b8f_350e_11eb_a605_4ccc6a82e689row5_col8\" class=\"data row5 col8\" >0.168455</td>\n",
       "            </tr>\n",
       "            <tr>\n",
       "                        <th id=\"T_55064b8f_350e_11eb_a605_4ccc6a82e689level0_row6\" class=\"row_heading level0 row6\" >6</th>\n",
       "                        <td id=\"T_55064b8f_350e_11eb_a605_4ccc6a82e689row6_col0\" class=\"data row6 col0\" >-0.948253</td>\n",
       "                        <td id=\"T_55064b8f_350e_11eb_a605_4ccc6a82e689row6_col1\" class=\"data row6 col1\" >-0.477848</td>\n",
       "                        <td id=\"T_55064b8f_350e_11eb_a605_4ccc6a82e689row6_col2\" class=\"data row6 col2\" >-0.098065</td>\n",
       "                        <td id=\"T_55064b8f_350e_11eb_a605_4ccc6a82e689row6_col3\" class=\"data row6 col3\" >-0.656091</td>\n",
       "                        <td id=\"T_55064b8f_350e_11eb_a605_4ccc6a82e689row6_col4\" class=\"data row6 col4\" >-0.107564</td>\n",
       "                        <td id=\"T_55064b8f_350e_11eb_a605_4ccc6a82e689row6_col5\" class=\"data row6 col5\" >-0.835345</td>\n",
       "                        <td id=\"T_55064b8f_350e_11eb_a605_4ccc6a82e689row6_col6\" class=\"data row6 col6\" >-0.577428</td>\n",
       "                        <td id=\"T_55064b8f_350e_11eb_a605_4ccc6a82e689row6_col7\" class=\"data row6 col7\" >-0.891055</td>\n",
       "                        <td id=\"T_55064b8f_350e_11eb_a605_4ccc6a82e689row6_col8\" class=\"data row6 col8\" >0.866490</td>\n",
       "            </tr>\n",
       "            <tr>\n",
       "                        <th id=\"T_55064b8f_350e_11eb_a605_4ccc6a82e689level0_row7\" class=\"row_heading level0 row7\" >7</th>\n",
       "                        <td id=\"T_55064b8f_350e_11eb_a605_4ccc6a82e689row7_col0\" class=\"data row7 col0\" >-0.596903</td>\n",
       "                        <td id=\"T_55064b8f_350e_11eb_a605_4ccc6a82e689row7_col1\" class=\"data row7 col1\" >0.134138</td>\n",
       "                        <td id=\"T_55064b8f_350e_11eb_a605_4ccc6a82e689row7_col2\" class=\"data row7 col2\" >-0.116576</td>\n",
       "                        <td id=\"T_55064b8f_350e_11eb_a605_4ccc6a82e689row7_col3\" class=\"data row7 col3\" >-0.718033</td>\n",
       "                        <td id=\"T_55064b8f_350e_11eb_a605_4ccc6a82e689row7_col4\" class=\"data row7 col4\" >0.240645</td>\n",
       "                        <td id=\"T_55064b8f_350e_11eb_a605_4ccc6a82e689row7_col5\" class=\"data row7 col5\" >-0.155234</td>\n",
       "                        <td id=\"T_55064b8f_350e_11eb_a605_4ccc6a82e689row7_col6\" class=\"data row7 col6\" >-0.686860</td>\n",
       "                        <td id=\"T_55064b8f_350e_11eb_a605_4ccc6a82e689row7_col7\" class=\"data row7 col7\" >-0.453993</td>\n",
       "                        <td id=\"T_55064b8f_350e_11eb_a605_4ccc6a82e689row7_col8\" class=\"data row7 col8\" >0.359687</td>\n",
       "            </tr>\n",
       "            <tr>\n",
       "                        <th id=\"T_55064b8f_350e_11eb_a605_4ccc6a82e689level0_row8\" class=\"row_heading level0 row8\" >8</th>\n",
       "                        <td id=\"T_55064b8f_350e_11eb_a605_4ccc6a82e689row8_col0\" class=\"data row8 col0\" >-0.197116</td>\n",
       "                        <td id=\"T_55064b8f_350e_11eb_a605_4ccc6a82e689row8_col1\" class=\"data row8 col1\" >0.340466</td>\n",
       "                        <td id=\"T_55064b8f_350e_11eb_a605_4ccc6a82e689row8_col2\" class=\"data row8 col2\" >0.397728</td>\n",
       "                        <td id=\"T_55064b8f_350e_11eb_a605_4ccc6a82e689row8_col3\" class=\"data row8 col3\" >0.107060</td>\n",
       "                        <td id=\"T_55064b8f_350e_11eb_a605_4ccc6a82e689row8_col4\" class=\"data row8 col4\" >-0.038009</td>\n",
       "                        <td id=\"T_55064b8f_350e_11eb_a605_4ccc6a82e689row8_col5\" class=\"data row8 col5\" >-0.092108</td>\n",
       "                        <td id=\"T_55064b8f_350e_11eb_a605_4ccc6a82e689row8_col6\" class=\"data row8 col6\" >-0.074552</td>\n",
       "                        <td id=\"T_55064b8f_350e_11eb_a605_4ccc6a82e689row8_col7\" class=\"data row8 col7\" >-0.111864</td>\n",
       "                        <td id=\"T_55064b8f_350e_11eb_a605_4ccc6a82e689row8_col8\" class=\"data row8 col8\" >0.112011</td>\n",
       "            </tr>\n",
       "    </tbody></table>"
      ],
      "text/plain": [
       "<pandas.io.formats.style.Styler at 0x29e36ecf8b0>"
      ]
     },
     "execution_count": 15,
     "metadata": {},
     "output_type": "execute_result"
    }
   ],
   "source": [
    "b.pc_analysis()"
   ]
  },
  {
   "cell_type": "code",
   "execution_count": 16,
   "metadata": {},
   "outputs": [
    {
     "data": {
      "text/html": [
       "<style  type=\"text/css\" >\n",
       "#T_55232b1a_350e_11eb_8beb_4ccc6a82e689row7_col0,#T_55232b1a_350e_11eb_8beb_4ccc6a82e689row7_col1,#T_55232b1a_350e_11eb_8beb_4ccc6a82e689row7_col2,#T_55232b1a_350e_11eb_8beb_4ccc6a82e689row8_col0,#T_55232b1a_350e_11eb_8beb_4ccc6a82e689row8_col1,#T_55232b1a_350e_11eb_8beb_4ccc6a82e689row8_col2{\n",
       "            color:  grey;\n",
       "        }</style><table id=\"T_55232b1a_350e_11eb_8beb_4ccc6a82e689\" ><thead>    <tr>        <th class=\"blank level0\" ></th>        <th class=\"col_heading level0 col0\" >eValue</th>        <th class=\"col_heading level0 col1\" >% Variance</th>        <th class=\"col_heading level0 col2\" >Cumulative %</th>    </tr></thead><tbody>\n",
       "                <tr>\n",
       "                        <th id=\"T_55232b1a_350e_11eb_8beb_4ccc6a82e689level0_row0\" class=\"row_heading level0 row0\" >PC 1</th>\n",
       "                        <td id=\"T_55232b1a_350e_11eb_8beb_4ccc6a82e689row0_col0\" class=\"data row0 col0\" >3.297793</td>\n",
       "                        <td id=\"T_55232b1a_350e_11eb_8beb_4ccc6a82e689row0_col1\" class=\"data row0 col1\" >36.64%</td>\n",
       "                        <td id=\"T_55232b1a_350e_11eb_8beb_4ccc6a82e689row0_col2\" class=\"data row0 col2\" >36.64%</td>\n",
       "            </tr>\n",
       "            <tr>\n",
       "                        <th id=\"T_55232b1a_350e_11eb_8beb_4ccc6a82e689level0_row1\" class=\"row_heading level0 row1\" >PC 2</th>\n",
       "                        <td id=\"T_55232b1a_350e_11eb_8beb_4ccc6a82e689row1_col0\" class=\"data row1 col0\" >1.213562</td>\n",
       "                        <td id=\"T_55232b1a_350e_11eb_8beb_4ccc6a82e689row1_col1\" class=\"data row1 col1\" >13.48%</td>\n",
       "                        <td id=\"T_55232b1a_350e_11eb_8beb_4ccc6a82e689row1_col2\" class=\"data row1 col2\" >50.13%</td>\n",
       "            </tr>\n",
       "            <tr>\n",
       "                        <th id=\"T_55232b1a_350e_11eb_8beb_4ccc6a82e689level0_row2\" class=\"row_heading level0 row2\" >PC 3</th>\n",
       "                        <td id=\"T_55232b1a_350e_11eb_8beb_4ccc6a82e689row2_col0\" class=\"data row2 col0\" >1.105530</td>\n",
       "                        <td id=\"T_55232b1a_350e_11eb_8beb_4ccc6a82e689row2_col1\" class=\"data row2 col1\" >12.28%</td>\n",
       "                        <td id=\"T_55232b1a_350e_11eb_8beb_4ccc6a82e689row2_col2\" class=\"data row2 col2\" >62.41%</td>\n",
       "            </tr>\n",
       "            <tr>\n",
       "                        <th id=\"T_55232b1a_350e_11eb_8beb_4ccc6a82e689level0_row3\" class=\"row_heading level0 row3\" >PC 4</th>\n",
       "                        <td id=\"T_55232b1a_350e_11eb_8beb_4ccc6a82e689row3_col0\" class=\"data row3 col0\" >0.907280</td>\n",
       "                        <td id=\"T_55232b1a_350e_11eb_8beb_4ccc6a82e689row3_col1\" class=\"data row3 col1\" >10.08%</td>\n",
       "                        <td id=\"T_55232b1a_350e_11eb_8beb_4ccc6a82e689row3_col2\" class=\"data row3 col2\" >72.49%</td>\n",
       "            </tr>\n",
       "            <tr>\n",
       "                        <th id=\"T_55232b1a_350e_11eb_8beb_4ccc6a82e689level0_row4\" class=\"row_heading level0 row4\" >PC 5</th>\n",
       "                        <td id=\"T_55232b1a_350e_11eb_8beb_4ccc6a82e689row4_col0\" class=\"data row4 col0\" >0.860629</td>\n",
       "                        <td id=\"T_55232b1a_350e_11eb_8beb_4ccc6a82e689row4_col1\" class=\"data row4 col1\" >9.56%</td>\n",
       "                        <td id=\"T_55232b1a_350e_11eb_8beb_4ccc6a82e689row4_col2\" class=\"data row4 col2\" >82.05%</td>\n",
       "            </tr>\n",
       "            <tr>\n",
       "                        <th id=\"T_55232b1a_350e_11eb_8beb_4ccc6a82e689level0_row5\" class=\"row_heading level0 row5\" >PC 6</th>\n",
       "                        <td id=\"T_55232b1a_350e_11eb_8beb_4ccc6a82e689row5_col0\" class=\"data row5 col0\" >0.562186</td>\n",
       "                        <td id=\"T_55232b1a_350e_11eb_8beb_4ccc6a82e689row5_col1\" class=\"data row5 col1\" >6.25%</td>\n",
       "                        <td id=\"T_55232b1a_350e_11eb_8beb_4ccc6a82e689row5_col2\" class=\"data row5 col2\" >88.30%</td>\n",
       "            </tr>\n",
       "            <tr>\n",
       "                        <th id=\"T_55232b1a_350e_11eb_8beb_4ccc6a82e689level0_row6\" class=\"row_heading level0 row6\" >PC 7</th>\n",
       "                        <td id=\"T_55232b1a_350e_11eb_8beb_4ccc6a82e689row6_col0\" class=\"data row6 col0\" >0.483821</td>\n",
       "                        <td id=\"T_55232b1a_350e_11eb_8beb_4ccc6a82e689row6_col1\" class=\"data row6 col1\" >5.38%</td>\n",
       "                        <td id=\"T_55232b1a_350e_11eb_8beb_4ccc6a82e689row6_col2\" class=\"data row6 col2\" >93.68%</td>\n",
       "            </tr>\n",
       "            <tr>\n",
       "                        <th id=\"T_55232b1a_350e_11eb_8beb_4ccc6a82e689level0_row7\" class=\"row_heading level0 row7\" >PC 8</th>\n",
       "                        <td id=\"T_55232b1a_350e_11eb_8beb_4ccc6a82e689row7_col0\" class=\"data row7 col0\" >0.318072</td>\n",
       "                        <td id=\"T_55232b1a_350e_11eb_8beb_4ccc6a82e689row7_col1\" class=\"data row7 col1\" >3.53%</td>\n",
       "                        <td id=\"T_55232b1a_350e_11eb_8beb_4ccc6a82e689row7_col2\" class=\"data row7 col2\" >97.21%</td>\n",
       "            </tr>\n",
       "            <tr>\n",
       "                        <th id=\"T_55232b1a_350e_11eb_8beb_4ccc6a82e689level0_row8\" class=\"row_heading level0 row8\" >PC 9</th>\n",
       "                        <td id=\"T_55232b1a_350e_11eb_8beb_4ccc6a82e689row8_col0\" class=\"data row8 col0\" >0.251128</td>\n",
       "                        <td id=\"T_55232b1a_350e_11eb_8beb_4ccc6a82e689row8_col1\" class=\"data row8 col1\" >2.79%</td>\n",
       "                        <td id=\"T_55232b1a_350e_11eb_8beb_4ccc6a82e689row8_col2\" class=\"data row8 col2\" >100.00%</td>\n",
       "            </tr>\n",
       "    </tbody></table>"
      ],
      "text/plain": [
       "<pandas.io.formats.style.Styler at 0x29e36ed3790>"
      ]
     },
     "execution_count": 16,
     "metadata": {},
     "output_type": "execute_result"
    }
   ],
   "source": [
    "b.variance_explained()"
   ]
  },
  {
   "cell_type": "code",
   "execution_count": 17,
   "metadata": {},
   "outputs": [
    {
     "data": {
      "image/png": "[encoded data removed]",
      "text/plain": [
       "<Figure size 792x504 with 1 Axes>"
      ]
     },
     "metadata": {
      "needs_background": "light"
     },
     "output_type": "display_data"
    }
   ],
   "source": [
    "b.variance_chart()"
   ]
  }
 ],
 "metadata": {
  "kernelspec": {
   "display_name": "Python 3",
   "language": "python",
   "name": "python3"
  },
  "language_info": {
   "codemirror_mode": {
    "name": "ipython",
    "version": 3
   },
   "file_extension": ".py",
   "mimetype": "text/x-python",
   "name": "python",
   "nbconvert_exporter": "python",
   "pygments_lexer": "ipython3",
   "version": "3.8.5"
  }
 },
 "nbformat": 4,
 "nbformat_minor": 4
}
